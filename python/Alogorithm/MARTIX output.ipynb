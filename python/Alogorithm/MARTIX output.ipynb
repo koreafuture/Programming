{
 "cells": [
  {
   "cell_type": "code",
   "execution_count": 41,
   "metadata": {},
   "outputs": [
    {
     "name": "stdout",
     "output_type": "stream",
     "text": [
      "행의값을 입력하여라3\n",
      "Seed값을 입력하여라9\n",
      "[[9. 1. 3.]\n",
      " [0. 2. 4.]\n",
      " [0. 0. 5.]]\n"
     ]
    }
   ],
   "source": [
    "import numpy as np\n",
    "n=int(input(\"행의값을 입력하여라\"))\n",
    "s = int(input(\"Seed값을 입력하여라\"))\n",
    "a = np.empty((n,n))\n",
    "seed = s\n",
    "for  j in range(0,n) :\n",
    "    for i in range(0,j+1) :\n",
    "        a[i,j] = seed  \n",
    "        seed = seed+1\n",
    "        if seed == 10:\n",
    "            seed = 1\n",
    "    \n",
    "print(a)"
   ]
  }
 ],
 "metadata": {
  "kernelspec": {
   "display_name": "Python 3",
   "language": "python",
   "name": "python3"
  },
  "language_info": {
   "codemirror_mode": {
    "name": "ipython",
    "version": 3
   },
   "file_extension": ".py",
   "mimetype": "text/x-python",
   "name": "python",
   "nbconvert_exporter": "python",
   "pygments_lexer": "ipython3",
   "version": "3.6.5"
  }
 },
 "nbformat": 4,
 "nbformat_minor": 2
}
