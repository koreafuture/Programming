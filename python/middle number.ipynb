{
 "cells": [
  {
   "cell_type": "code",
   "execution_count": 72,
   "metadata": {},
   "outputs": [
    {
     "name": "stdout",
     "output_type": "stream",
     "text": [
      "정수를 입력하시오35\n",
      " O \n"
     ]
    }
   ],
   "source": [
    "a = int(input(\"정수를 입력하시오\"))\n",
    "i = 1\n",
    "\n",
    "sum1 =0\n",
    "sum2 =0\n",
    "\n",
    "for i in range(1,a) :\n",
    "    sum1 = sum1 +i\n",
    "    i = i + 1\n",
    "    \n",
    "for a in range(a+1,10000) :\n",
    "    sum2 = sum2 + a\n",
    "    a = a + 1\n",
    "    \n",
    "    if sum1 == sum2 :\n",
    "        print(\" O \")\n",
    "        break\n",
    "    \n",
    "    else :\n",
    "        if sum1 < sum2 :\n",
    "            print(\" X \")\n",
    "            break\n",
    "        \n",
    "        else : continue\n",
    "    \n"
   ]
  }
 ],
 "metadata": {
  "kernelspec": {
   "display_name": "Python 3",
   "language": "python",
   "name": "python3"
  },
  "language_info": {
   "codemirror_mode": {
    "name": "ipython",
    "version": 3
   },
   "file_extension": ".py",
   "mimetype": "text/x-python",
   "name": "python",
   "nbconvert_exporter": "python",
   "pygments_lexer": "ipython3",
   "version": "3.6.5"
  }
 },
 "nbformat": 4,
 "nbformat_minor": 2
}
